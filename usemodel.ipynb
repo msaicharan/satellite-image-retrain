{
 "cells": [
  {
   "cell_type": "code",
   "execution_count": 22,
   "metadata": {},
   "outputs": [],
   "source": [
    "import tensorflow as tf\n",
    "from tensorflow.python.platform import gfile\n",
    "import tensorflow as tf\n",
    "import os\n",
    "import sys\n",
    "from tensorflow.python.platform import gfile\n",
    "import numpy as np\n",
    "from PIL import Image\n",
    "import lime\n",
    "import lime.lime_tabular \n",
    "from keras.preprocessing import image\n",
    "from keras.applications.mobilenet import MobileNet\n",
    "from keras import applications\n",
    "import glob\n",
    "import matplotlib.pyplot as plt"
   ]
  },
  {
   "cell_type": "code",
   "execution_count": 3,
   "metadata": {
    "collapsed": true
   },
   "outputs": [
    {
     "name": "stdout",
     "output_type": "stream",
     "text": [
      "load graph\n",
      "WARNING:tensorflow:From <ipython-input-3-2f4118e753e5>:4: FastGFile.__init__ (from tensorflow.python.platform.gfile) is deprecated and will be removed in a future version.\n",
      "Instructions for updating:\n",
      "Use tf.gfile.GFile.\n",
      "['Placeholder', 'module/MobilenetV2/Conv/weights', 'module/MobilenetV2/Conv/BatchNorm/gamma', 'module/MobilenetV2/Conv/BatchNorm/beta', 'module/MobilenetV2/Conv/BatchNorm/moving_mean', 'module/MobilenetV2/Conv/BatchNorm/moving_variance', 'module/MobilenetV2/expanded_conv/depthwise/depthwise_weights', 'module/MobilenetV2/expanded_conv/depthwise/BatchNorm/gamma', 'module/MobilenetV2/expanded_conv/depthwise/BatchNorm/beta', 'module/MobilenetV2/expanded_conv/depthwise/BatchNorm/moving_mean', 'module/MobilenetV2/expanded_conv/depthwise/BatchNorm/moving_variance', 'module/MobilenetV2/expanded_conv/project/weights', 'module/MobilenetV2/expanded_conv/project/BatchNorm/gamma', 'module/MobilenetV2/expanded_conv/project/BatchNorm/beta', 'module/MobilenetV2/expanded_conv/project/BatchNorm/moving_mean', 'module/MobilenetV2/expanded_conv/project/BatchNorm/moving_variance', 'module/MobilenetV2/expanded_conv_1/expand/weights', 'module/MobilenetV2/expanded_conv_1/expand/BatchNorm/gamma', 'module/MobilenetV2/expanded_conv_1/expand/BatchNorm/beta', 'module/MobilenetV2/expanded_conv_1/expand/BatchNorm/moving_mean', 'module/MobilenetV2/expanded_conv_1/expand/BatchNorm/moving_variance', 'module/MobilenetV2/expanded_conv_1/depthwise/depthwise_weights', 'module/MobilenetV2/expanded_conv_1/depthwise/BatchNorm/gamma', 'module/MobilenetV2/expanded_conv_1/depthwise/BatchNorm/beta', 'module/MobilenetV2/expanded_conv_1/depthwise/BatchNorm/moving_mean', 'module/MobilenetV2/expanded_conv_1/depthwise/BatchNorm/moving_variance', 'module/MobilenetV2/expanded_conv_1/project/weights', 'module/MobilenetV2/expanded_conv_1/project/BatchNorm/gamma', 'module/MobilenetV2/expanded_conv_1/project/BatchNorm/beta', 'module/MobilenetV2/expanded_conv_1/project/BatchNorm/moving_mean', 'module/MobilenetV2/expanded_conv_1/project/BatchNorm/moving_variance', 'module/MobilenetV2/expanded_conv_2/expand/weights', 'module/MobilenetV2/expanded_conv_2/expand/BatchNorm/gamma', 'module/MobilenetV2/expanded_conv_2/expand/BatchNorm/beta', 'module/MobilenetV2/expanded_conv_2/expand/BatchNorm/moving_mean', 'module/MobilenetV2/expanded_conv_2/expand/BatchNorm/moving_variance', 'module/MobilenetV2/expanded_conv_2/depthwise/depthwise_weights', 'module/MobilenetV2/expanded_conv_2/depthwise/BatchNorm/gamma', 'module/MobilenetV2/expanded_conv_2/depthwise/BatchNorm/beta', 'module/MobilenetV2/expanded_conv_2/depthwise/BatchNorm/moving_mean', 'module/MobilenetV2/expanded_conv_2/depthwise/BatchNorm/moving_variance', 'module/MobilenetV2/expanded_conv_2/project/weights', 'module/MobilenetV2/expanded_conv_2/project/BatchNorm/gamma', 'module/MobilenetV2/expanded_conv_2/project/BatchNorm/beta', 'module/MobilenetV2/expanded_conv_2/project/BatchNorm/moving_mean', 'module/MobilenetV2/expanded_conv_2/project/BatchNorm/moving_variance', 'module/MobilenetV2/expanded_conv_3/expand/weights', 'module/MobilenetV2/expanded_conv_3/expand/BatchNorm/gamma', 'module/MobilenetV2/expanded_conv_3/expand/BatchNorm/beta', 'module/MobilenetV2/expanded_conv_3/expand/BatchNorm/moving_mean', 'module/MobilenetV2/expanded_conv_3/expand/BatchNorm/moving_variance', 'module/MobilenetV2/expanded_conv_3/depthwise/depthwise_weights', 'module/MobilenetV2/expanded_conv_3/depthwise/BatchNorm/gamma', 'module/MobilenetV2/expanded_conv_3/depthwise/BatchNorm/beta', 'module/MobilenetV2/expanded_conv_3/depthwise/BatchNorm/moving_mean', 'module/MobilenetV2/expanded_conv_3/depthwise/BatchNorm/moving_variance', 'module/MobilenetV2/expanded_conv_3/project/weights', 'module/MobilenetV2/expanded_conv_3/project/BatchNorm/gamma', 'module/MobilenetV2/expanded_conv_3/project/BatchNorm/beta', 'module/MobilenetV2/expanded_conv_3/project/BatchNorm/moving_mean', 'module/MobilenetV2/expanded_conv_3/project/BatchNorm/moving_variance', 'module/MobilenetV2/expanded_conv_4/expand/weights', 'module/MobilenetV2/expanded_conv_4/expand/BatchNorm/gamma', 'module/MobilenetV2/expanded_conv_4/expand/BatchNorm/beta', 'module/MobilenetV2/expanded_conv_4/expand/BatchNorm/moving_mean', 'module/MobilenetV2/expanded_conv_4/expand/BatchNorm/moving_variance', 'module/MobilenetV2/expanded_conv_4/depthwise/depthwise_weights', 'module/MobilenetV2/expanded_conv_4/depthwise/BatchNorm/gamma', 'module/MobilenetV2/expanded_conv_4/depthwise/BatchNorm/beta', 'module/MobilenetV2/expanded_conv_4/depthwise/BatchNorm/moving_mean', 'module/MobilenetV2/expanded_conv_4/depthwise/BatchNorm/moving_variance', 'module/MobilenetV2/expanded_conv_4/project/weights', 'module/MobilenetV2/expanded_conv_4/project/BatchNorm/gamma', 'module/MobilenetV2/expanded_conv_4/project/BatchNorm/beta', 'module/MobilenetV2/expanded_conv_4/project/BatchNorm/moving_mean', 'module/MobilenetV2/expanded_conv_4/project/BatchNorm/moving_variance', 'module/MobilenetV2/expanded_conv_5/expand/weights', 'module/MobilenetV2/expanded_conv_5/expand/BatchNorm/gamma', 'module/MobilenetV2/expanded_conv_5/expand/BatchNorm/beta', 'module/MobilenetV2/expanded_conv_5/expand/BatchNorm/moving_mean', 'module/MobilenetV2/expanded_conv_5/expand/BatchNorm/moving_variance', 'module/MobilenetV2/expanded_conv_5/depthwise/depthwise_weights', 'module/MobilenetV2/expanded_conv_5/depthwise/BatchNorm/gamma', 'module/MobilenetV2/expanded_conv_5/depthwise/BatchNorm/beta', 'module/MobilenetV2/expanded_conv_5/depthwise/BatchNorm/moving_mean', 'module/MobilenetV2/expanded_conv_5/depthwise/BatchNorm/moving_variance', 'module/MobilenetV2/expanded_conv_5/project/weights', 'module/MobilenetV2/expanded_conv_5/project/BatchNorm/gamma', 'module/MobilenetV2/expanded_conv_5/project/BatchNorm/beta', 'module/MobilenetV2/expanded_conv_5/project/BatchNorm/moving_mean', 'module/MobilenetV2/expanded_conv_5/project/BatchNorm/moving_variance', 'module/MobilenetV2/expanded_conv_6/expand/weights', 'module/MobilenetV2/expanded_conv_6/expand/BatchNorm/gamma', 'module/MobilenetV2/expanded_conv_6/expand/BatchNorm/beta', 'module/MobilenetV2/expanded_conv_6/expand/BatchNorm/moving_mean', 'module/MobilenetV2/expanded_conv_6/expand/BatchNorm/moving_variance', 'module/MobilenetV2/expanded_conv_6/depthwise/depthwise_weights', 'module/MobilenetV2/expanded_conv_6/depthwise/BatchNorm/gamma', 'module/MobilenetV2/expanded_conv_6/depthwise/BatchNorm/beta', 'module/MobilenetV2/expanded_conv_6/depthwise/BatchNorm/moving_mean', 'module/MobilenetV2/expanded_conv_6/depthwise/BatchNorm/moving_variance', 'module/MobilenetV2/expanded_conv_6/project/weights', 'module/MobilenetV2/expanded_conv_6/project/BatchNorm/gamma', 'module/MobilenetV2/expanded_conv_6/project/BatchNorm/beta', 'module/MobilenetV2/expanded_conv_6/project/BatchNorm/moving_mean', 'module/MobilenetV2/expanded_conv_6/project/BatchNorm/moving_variance', 'module/MobilenetV2/expanded_conv_7/expand/weights', 'module/MobilenetV2/expanded_conv_7/expand/BatchNorm/gamma', 'module/MobilenetV2/expanded_conv_7/expand/BatchNorm/beta', 'module/MobilenetV2/expanded_conv_7/expand/BatchNorm/moving_mean', 'module/MobilenetV2/expanded_conv_7/expand/BatchNorm/moving_variance', 'module/MobilenetV2/expanded_conv_7/depthwise/depthwise_weights', 'module/MobilenetV2/expanded_conv_7/depthwise/BatchNorm/gamma', 'module/MobilenetV2/expanded_conv_7/depthwise/BatchNorm/beta', 'module/MobilenetV2/expanded_conv_7/depthwise/BatchNorm/moving_mean', 'module/MobilenetV2/expanded_conv_7/depthwise/BatchNorm/moving_variance', 'module/MobilenetV2/expanded_conv_7/project/weights', 'module/MobilenetV2/expanded_conv_7/project/BatchNorm/gamma', 'module/MobilenetV2/expanded_conv_7/project/BatchNorm/beta', 'module/MobilenetV2/expanded_conv_7/project/BatchNorm/moving_mean', 'module/MobilenetV2/expanded_conv_7/project/BatchNorm/moving_variance', 'module/MobilenetV2/expanded_conv_8/expand/weights', 'module/MobilenetV2/expanded_conv_8/expand/BatchNorm/gamma', 'module/MobilenetV2/expanded_conv_8/expand/BatchNorm/beta', 'module/MobilenetV2/expanded_conv_8/expand/BatchNorm/moving_mean', 'module/MobilenetV2/expanded_conv_8/expand/BatchNorm/moving_variance', 'module/MobilenetV2/expanded_conv_8/depthwise/depthwise_weights', 'module/MobilenetV2/expanded_conv_8/depthwise/BatchNorm/gamma', 'module/MobilenetV2/expanded_conv_8/depthwise/BatchNorm/beta', 'module/MobilenetV2/expanded_conv_8/depthwise/BatchNorm/moving_mean', 'module/MobilenetV2/expanded_conv_8/depthwise/BatchNorm/moving_variance', 'module/MobilenetV2/expanded_conv_8/project/weights', 'module/MobilenetV2/expanded_conv_8/project/BatchNorm/gamma', 'module/MobilenetV2/expanded_conv_8/project/BatchNorm/beta', 'module/MobilenetV2/expanded_conv_8/project/BatchNorm/moving_mean', 'module/MobilenetV2/expanded_conv_8/project/BatchNorm/moving_variance', 'module/MobilenetV2/expanded_conv_9/expand/weights', 'module/MobilenetV2/expanded_conv_9/expand/BatchNorm/gamma', 'module/MobilenetV2/expanded_conv_9/expand/BatchNorm/beta', 'module/MobilenetV2/expanded_conv_9/expand/BatchNorm/moving_mean', 'module/MobilenetV2/expanded_conv_9/expand/BatchNorm/moving_variance', 'module/MobilenetV2/expanded_conv_9/depthwise/depthwise_weights', 'module/MobilenetV2/expanded_conv_9/depthwise/BatchNorm/gamma', 'module/MobilenetV2/expanded_conv_9/depthwise/BatchNorm/beta', 'module/MobilenetV2/expanded_conv_9/depthwise/BatchNorm/moving_mean', 'module/MobilenetV2/expanded_conv_9/depthwise/BatchNorm/moving_variance', 'module/MobilenetV2/expanded_conv_9/project/weights', 'module/MobilenetV2/expanded_conv_9/project/BatchNorm/gamma', 'module/MobilenetV2/expanded_conv_9/project/BatchNorm/beta', 'module/MobilenetV2/expanded_conv_9/project/BatchNorm/moving_mean', 'module/MobilenetV2/expanded_conv_9/project/BatchNorm/moving_variance', 'module/MobilenetV2/expanded_conv_10/expand/weights', 'module/MobilenetV2/expanded_conv_10/expand/BatchNorm/gamma', 'module/MobilenetV2/expanded_conv_10/expand/BatchNorm/beta', 'module/MobilenetV2/expanded_conv_10/expand/BatchNorm/moving_mean', 'module/MobilenetV2/expanded_conv_10/expand/BatchNorm/moving_variance', 'module/MobilenetV2/expanded_conv_10/depthwise/depthwise_weights', 'module/MobilenetV2/expanded_conv_10/depthwise/BatchNorm/gamma', 'module/MobilenetV2/expanded_conv_10/depthwise/BatchNorm/beta', 'module/MobilenetV2/expanded_conv_10/depthwise/BatchNorm/moving_mean', 'module/MobilenetV2/expanded_conv_10/depthwise/BatchNorm/moving_variance', 'module/MobilenetV2/expanded_conv_10/project/weights', 'module/MobilenetV2/expanded_conv_10/project/BatchNorm/gamma', 'module/MobilenetV2/expanded_conv_10/project/BatchNorm/beta', 'module/MobilenetV2/expanded_conv_10/project/BatchNorm/moving_mean', 'module/MobilenetV2/expanded_conv_10/project/BatchNorm/moving_variance', 'module/MobilenetV2/expanded_conv_11/expand/weights', 'module/MobilenetV2/expanded_conv_11/expand/BatchNorm/gamma', 'module/MobilenetV2/expanded_conv_11/expand/BatchNorm/beta', 'module/MobilenetV2/expanded_conv_11/expand/BatchNorm/moving_mean', 'module/MobilenetV2/expanded_conv_11/expand/BatchNorm/moving_variance', 'module/MobilenetV2/expanded_conv_11/depthwise/depthwise_weights', 'module/MobilenetV2/expanded_conv_11/depthwise/BatchNorm/gamma', 'module/MobilenetV2/expanded_conv_11/depthwise/BatchNorm/beta', 'module/MobilenetV2/expanded_conv_11/depthwise/BatchNorm/moving_mean', 'module/MobilenetV2/expanded_conv_11/depthwise/BatchNorm/moving_variance', 'module/MobilenetV2/expanded_conv_11/project/weights', 'module/MobilenetV2/expanded_conv_11/project/BatchNorm/gamma', 'module/MobilenetV2/expanded_conv_11/project/BatchNorm/beta', 'module/MobilenetV2/expanded_conv_11/project/BatchNorm/moving_mean', 'module/MobilenetV2/expanded_conv_11/project/BatchNorm/moving_variance', 'module/MobilenetV2/expanded_conv_12/expand/weights', 'module/MobilenetV2/expanded_conv_12/expand/BatchNorm/gamma', 'module/MobilenetV2/expanded_conv_12/expand/BatchNorm/beta', 'module/MobilenetV2/expanded_conv_12/expand/BatchNorm/moving_mean', 'module/MobilenetV2/expanded_conv_12/expand/BatchNorm/moving_variance', 'module/MobilenetV2/expanded_conv_12/depthwise/depthwise_weights', 'module/MobilenetV2/expanded_conv_12/depthwise/BatchNorm/gamma', 'module/MobilenetV2/expanded_conv_12/depthwise/BatchNorm/beta', 'module/MobilenetV2/expanded_conv_12/depthwise/BatchNorm/moving_mean', 'module/MobilenetV2/expanded_conv_12/depthwise/BatchNorm/moving_variance', 'module/MobilenetV2/expanded_conv_12/project/weights', 'module/MobilenetV2/expanded_conv_12/project/BatchNorm/gamma', 'module/MobilenetV2/expanded_conv_12/project/BatchNorm/beta', 'module/MobilenetV2/expanded_conv_12/project/BatchNorm/moving_mean', 'module/MobilenetV2/expanded_conv_12/project/BatchNorm/moving_variance', 'module/MobilenetV2/expanded_conv_13/expand/weights', 'module/MobilenetV2/expanded_conv_13/expand/BatchNorm/gamma', 'module/MobilenetV2/expanded_conv_13/expand/BatchNorm/beta', 'module/MobilenetV2/expanded_conv_13/expand/BatchNorm/moving_mean', 'module/MobilenetV2/expanded_conv_13/expand/BatchNorm/moving_variance', 'module/MobilenetV2/expanded_conv_13/depthwise/depthwise_weights', 'module/MobilenetV2/expanded_conv_13/depthwise/BatchNorm/gamma', 'module/MobilenetV2/expanded_conv_13/depthwise/BatchNorm/beta', 'module/MobilenetV2/expanded_conv_13/depthwise/BatchNorm/moving_mean', 'module/MobilenetV2/expanded_conv_13/depthwise/BatchNorm/moving_variance', 'module/MobilenetV2/expanded_conv_13/project/weights', 'module/MobilenetV2/expanded_conv_13/project/BatchNorm/gamma', 'module/MobilenetV2/expanded_conv_13/project/BatchNorm/beta', 'module/MobilenetV2/expanded_conv_13/project/BatchNorm/moving_mean', 'module/MobilenetV2/expanded_conv_13/project/BatchNorm/moving_variance', 'module/MobilenetV2/expanded_conv_14/expand/weights', 'module/MobilenetV2/expanded_conv_14/expand/BatchNorm/gamma', 'module/MobilenetV2/expanded_conv_14/expand/BatchNorm/beta', 'module/MobilenetV2/expanded_conv_14/expand/BatchNorm/moving_mean', 'module/MobilenetV2/expanded_conv_14/expand/BatchNorm/moving_variance', 'module/MobilenetV2/expanded_conv_14/depthwise/depthwise_weights', 'module/MobilenetV2/expanded_conv_14/depthwise/BatchNorm/gamma', 'module/MobilenetV2/expanded_conv_14/depthwise/BatchNorm/beta', 'module/MobilenetV2/expanded_conv_14/depthwise/BatchNorm/moving_mean', 'module/MobilenetV2/expanded_conv_14/depthwise/BatchNorm/moving_variance', 'module/MobilenetV2/expanded_conv_14/project/weights', 'module/MobilenetV2/expanded_conv_14/project/BatchNorm/gamma', 'module/MobilenetV2/expanded_conv_14/project/BatchNorm/beta', 'module/MobilenetV2/expanded_conv_14/project/BatchNorm/moving_mean', 'module/MobilenetV2/expanded_conv_14/project/BatchNorm/moving_variance', 'module/MobilenetV2/expanded_conv_15/expand/weights', 'module/MobilenetV2/expanded_conv_15/expand/BatchNorm/gamma', 'module/MobilenetV2/expanded_conv_15/expand/BatchNorm/beta', 'module/MobilenetV2/expanded_conv_15/expand/BatchNorm/moving_mean', 'module/MobilenetV2/expanded_conv_15/expand/BatchNorm/moving_variance', 'module/MobilenetV2/expanded_conv_15/depthwise/depthwise_weights', 'module/MobilenetV2/expanded_conv_15/depthwise/BatchNorm/gamma', 'module/MobilenetV2/expanded_conv_15/depthwise/BatchNorm/beta', 'module/MobilenetV2/expanded_conv_15/depthwise/BatchNorm/moving_mean', 'module/MobilenetV2/expanded_conv_15/depthwise/BatchNorm/moving_variance', 'module/MobilenetV2/expanded_conv_15/project/weights', 'module/MobilenetV2/expanded_conv_15/project/BatchNorm/gamma', 'module/MobilenetV2/expanded_conv_15/project/BatchNorm/beta', 'module/MobilenetV2/expanded_conv_15/project/BatchNorm/moving_mean', 'module/MobilenetV2/expanded_conv_15/project/BatchNorm/moving_variance', 'module/MobilenetV2/expanded_conv_16/expand/weights', 'module/MobilenetV2/expanded_conv_16/expand/BatchNorm/gamma', 'module/MobilenetV2/expanded_conv_16/expand/BatchNorm/beta', 'module/MobilenetV2/expanded_conv_16/expand/BatchNorm/moving_mean', 'module/MobilenetV2/expanded_conv_16/expand/BatchNorm/moving_variance', 'module/MobilenetV2/expanded_conv_16/depthwise/depthwise_weights', 'module/MobilenetV2/expanded_conv_16/depthwise/BatchNorm/gamma', 'module/MobilenetV2/expanded_conv_16/depthwise/BatchNorm/beta', 'module/MobilenetV2/expanded_conv_16/depthwise/BatchNorm/moving_mean', 'module/MobilenetV2/expanded_conv_16/depthwise/BatchNorm/moving_variance', 'module/MobilenetV2/expanded_conv_16/project/weights', 'module/MobilenetV2/expanded_conv_16/project/BatchNorm/gamma', 'module/MobilenetV2/expanded_conv_16/project/BatchNorm/beta', 'module/MobilenetV2/expanded_conv_16/project/BatchNorm/moving_mean', 'module/MobilenetV2/expanded_conv_16/project/BatchNorm/moving_variance', 'module/MobilenetV2/Conv_1/weights', 'module/MobilenetV2/Conv_1/BatchNorm/gamma', 'module/MobilenetV2/Conv_1/BatchNorm/beta', 'module/MobilenetV2/Conv_1/BatchNorm/moving_mean', 'module/MobilenetV2/Conv_1/BatchNorm/moving_variance', 'module_apply_default/hub_input/Mul/y', 'module_apply_default/hub_input/Mul', 'module_apply_default/hub_input/Sub/y', 'module_apply_default/hub_input/Sub', 'module_apply_default/MobilenetV2/input', 'module_apply_default/MobilenetV2/Conv/Conv2D/ReadVariableOp', 'module_apply_default/MobilenetV2/Conv/Conv2D', 'module_apply_default/MobilenetV2/Conv/BatchNorm/ReadVariableOp', 'module_apply_default/MobilenetV2/Conv/BatchNorm/ReadVariableOp_1', 'module_apply_default/MobilenetV2/Conv/BatchNorm/FusedBatchNorm/ReadVariableOp', 'module_apply_default/MobilenetV2/Conv/BatchNorm/FusedBatchNorm/ReadVariableOp_1', 'module_apply_default/MobilenetV2/Conv/BatchNorm/FusedBatchNorm', 'module_apply_default/MobilenetV2/Conv/Relu6', 'module_apply_default/MobilenetV2/expanded_conv/input', 'module_apply_default/MobilenetV2/expanded_conv/depthwise/depthwise/ReadVariableOp', 'module_apply_default/MobilenetV2/expanded_conv/depthwise/depthwise', 'module_apply_default/MobilenetV2/expanded_conv/depthwise/BatchNorm/ReadVariableOp', 'module_apply_default/MobilenetV2/expanded_conv/depthwise/BatchNorm/ReadVariableOp_1', 'module_apply_default/MobilenetV2/expanded_conv/depthwise/BatchNorm/FusedBatchNorm/ReadVariableOp', 'module_apply_default/MobilenetV2/expanded_conv/depthwise/BatchNorm/FusedBatchNorm/ReadVariableOp_1', 'module_apply_default/MobilenetV2/expanded_conv/depthwise/BatchNorm/FusedBatchNorm', 'module_apply_default/MobilenetV2/expanded_conv/depthwise/Relu6', 'module_apply_default/MobilenetV2/expanded_conv/depthwise_output', 'module_apply_default/MobilenetV2/expanded_conv/project/Conv2D/ReadVariableOp', 'module_apply_default/MobilenetV2/expanded_conv/project/Conv2D', 'module_apply_default/MobilenetV2/expanded_conv/project/BatchNorm/ReadVariableOp', 'module_apply_default/MobilenetV2/expanded_conv/project/BatchNorm/ReadVariableOp_1', 'module_apply_default/MobilenetV2/expanded_conv/project/BatchNorm/FusedBatchNorm/ReadVariableOp', 'module_apply_default/MobilenetV2/expanded_conv/project/BatchNorm/FusedBatchNorm/ReadVariableOp_1', 'module_apply_default/MobilenetV2/expanded_conv/project/BatchNorm/FusedBatchNorm', 'module_apply_default/MobilenetV2/expanded_conv/project/Identity', 'module_apply_default/MobilenetV2/expanded_conv/output', 'module_apply_default/MobilenetV2/expanded_conv_1/input', 'module_apply_default/MobilenetV2/expanded_conv_1/expand/Conv2D/ReadVariableOp', 'module_apply_default/MobilenetV2/expanded_conv_1/expand/Conv2D', 'module_apply_default/MobilenetV2/expanded_conv_1/expand/BatchNorm/ReadVariableOp', 'module_apply_default/MobilenetV2/expanded_conv_1/expand/BatchNorm/ReadVariableOp_1', 'module_apply_default/MobilenetV2/expanded_conv_1/expand/BatchNorm/FusedBatchNorm/ReadVariableOp', 'module_apply_default/MobilenetV2/expanded_conv_1/expand/BatchNorm/FusedBatchNorm/ReadVariableOp_1', 'module_apply_default/MobilenetV2/expanded_conv_1/expand/BatchNorm/FusedBatchNorm', 'module_apply_default/MobilenetV2/expanded_conv_1/expand/Relu6', 'module_apply_default/MobilenetV2/expanded_conv_1/expansion_output', 'module_apply_default/MobilenetV2/expanded_conv_1/depthwise/depthwise/ReadVariableOp', 'module_apply_default/MobilenetV2/expanded_conv_1/depthwise/depthwise', 'module_apply_default/MobilenetV2/expanded_conv_1/depthwise/BatchNorm/ReadVariableOp', 'module_apply_default/MobilenetV2/expanded_conv_1/depthwise/BatchNorm/ReadVariableOp_1', 'module_apply_default/MobilenetV2/expanded_conv_1/depthwise/BatchNorm/FusedBatchNorm/ReadVariableOp', 'module_apply_default/MobilenetV2/expanded_conv_1/depthwise/BatchNorm/FusedBatchNorm/ReadVariableOp_1', 'module_apply_default/MobilenetV2/expanded_conv_1/depthwise/BatchNorm/FusedBatchNorm', 'module_apply_default/MobilenetV2/expanded_conv_1/depthwise/Relu6', 'module_apply_default/MobilenetV2/expanded_conv_1/depthwise_output', 'module_apply_default/MobilenetV2/expanded_conv_1/project/Conv2D/ReadVariableOp', 'module_apply_default/MobilenetV2/expanded_conv_1/project/Conv2D', 'module_apply_default/MobilenetV2/expanded_conv_1/project/BatchNorm/ReadVariableOp', 'module_apply_default/MobilenetV2/expanded_conv_1/project/BatchNorm/ReadVariableOp_1', 'module_apply_default/MobilenetV2/expanded_conv_1/project/BatchNorm/FusedBatchNorm/ReadVariableOp', 'module_apply_default/MobilenetV2/expanded_conv_1/project/BatchNorm/FusedBatchNorm/ReadVariableOp_1', 'module_apply_default/MobilenetV2/expanded_conv_1/project/BatchNorm/FusedBatchNorm', 'module_apply_default/MobilenetV2/expanded_conv_1/project/Identity', 'module_apply_default/MobilenetV2/expanded_conv_1/output', 'module_apply_default/MobilenetV2/expanded_conv_2/input', 'module_apply_default/MobilenetV2/expanded_conv_2/expand/Conv2D/ReadVariableOp', 'module_apply_default/MobilenetV2/expanded_conv_2/expand/Conv2D', 'module_apply_default/MobilenetV2/expanded_conv_2/expand/BatchNorm/ReadVariableOp', 'module_apply_default/MobilenetV2/expanded_conv_2/expand/BatchNorm/ReadVariableOp_1', 'module_apply_default/MobilenetV2/expanded_conv_2/expand/BatchNorm/FusedBatchNorm/ReadVariableOp', 'module_apply_default/MobilenetV2/expanded_conv_2/expand/BatchNorm/FusedBatchNorm/ReadVariableOp_1', 'module_apply_default/MobilenetV2/expanded_conv_2/expand/BatchNorm/FusedBatchNorm', 'module_apply_default/MobilenetV2/expanded_conv_2/expand/Relu6', 'module_apply_default/MobilenetV2/expanded_conv_2/expansion_output', 'module_apply_default/MobilenetV2/expanded_conv_2/depthwise/depthwise/ReadVariableOp', 'module_apply_default/MobilenetV2/expanded_conv_2/depthwise/depthwise', 'module_apply_default/MobilenetV2/expanded_conv_2/depthwise/BatchNorm/ReadVariableOp', 'module_apply_default/MobilenetV2/expanded_conv_2/depthwise/BatchNorm/ReadVariableOp_1', 'module_apply_default/MobilenetV2/expanded_conv_2/depthwise/BatchNorm/FusedBatchNorm/ReadVariableOp', 'module_apply_default/MobilenetV2/expanded_conv_2/depthwise/BatchNorm/FusedBatchNorm/ReadVariableOp_1', 'module_apply_default/MobilenetV2/expanded_conv_2/depthwise/BatchNorm/FusedBatchNorm', 'module_apply_default/MobilenetV2/expanded_conv_2/depthwise/Relu6', 'module_apply_default/MobilenetV2/expanded_conv_2/depthwise_output', 'module_apply_default/MobilenetV2/expanded_conv_2/project/Conv2D/ReadVariableOp', 'module_apply_default/MobilenetV2/expanded_conv_2/project/Conv2D', 'module_apply_default/MobilenetV2/expanded_conv_2/project/BatchNorm/ReadVariableOp', 'module_apply_default/MobilenetV2/expanded_conv_2/project/BatchNorm/ReadVariableOp_1', 'module_apply_default/MobilenetV2/expanded_conv_2/project/BatchNorm/FusedBatchNorm/ReadVariableOp', 'module_apply_default/MobilenetV2/expanded_conv_2/project/BatchNorm/FusedBatchNorm/ReadVariableOp_1', 'module_apply_default/MobilenetV2/expanded_conv_2/project/BatchNorm/FusedBatchNorm', 'module_apply_default/MobilenetV2/expanded_conv_2/project/Identity', 'module_apply_default/MobilenetV2/expanded_conv_2/add', 'module_apply_default/MobilenetV2/expanded_conv_2/output', 'module_apply_default/MobilenetV2/expanded_conv_3/input', 'module_apply_default/MobilenetV2/expanded_conv_3/expand/Conv2D/ReadVariableOp', 'module_apply_default/MobilenetV2/expanded_conv_3/expand/Conv2D', 'module_apply_default/MobilenetV2/expanded_conv_3/expand/BatchNorm/ReadVariableOp', 'module_apply_default/MobilenetV2/expanded_conv_3/expand/BatchNorm/ReadVariableOp_1', 'module_apply_default/MobilenetV2/expanded_conv_3/expand/BatchNorm/FusedBatchNorm/ReadVariableOp', 'module_apply_default/MobilenetV2/expanded_conv_3/expand/BatchNorm/FusedBatchNorm/ReadVariableOp_1', 'module_apply_default/MobilenetV2/expanded_conv_3/expand/BatchNorm/FusedBatchNorm', 'module_apply_default/MobilenetV2/expanded_conv_3/expand/Relu6', 'module_apply_default/MobilenetV2/expanded_conv_3/expansion_output', 'module_apply_default/MobilenetV2/expanded_conv_3/depthwise/depthwise/ReadVariableOp', 'module_apply_default/MobilenetV2/expanded_conv_3/depthwise/depthwise', 'module_apply_default/MobilenetV2/expanded_conv_3/depthwise/BatchNorm/ReadVariableOp', 'module_apply_default/MobilenetV2/expanded_conv_3/depthwise/BatchNorm/ReadVariableOp_1', 'module_apply_default/MobilenetV2/expanded_conv_3/depthwise/BatchNorm/FusedBatchNorm/ReadVariableOp', 'module_apply_default/MobilenetV2/expanded_conv_3/depthwise/BatchNorm/FusedBatchNorm/ReadVariableOp_1', 'module_apply_default/MobilenetV2/expanded_conv_3/depthwise/BatchNorm/FusedBatchNorm', 'module_apply_default/MobilenetV2/expanded_conv_3/depthwise/Relu6', 'module_apply_default/MobilenetV2/expanded_conv_3/depthwise_output', 'module_apply_default/MobilenetV2/expanded_conv_3/project/Conv2D/ReadVariableOp', 'module_apply_default/MobilenetV2/expanded_conv_3/project/Conv2D', 'module_apply_default/MobilenetV2/expanded_conv_3/project/BatchNorm/ReadVariableOp', 'module_apply_default/MobilenetV2/expanded_conv_3/project/BatchNorm/ReadVariableOp_1', 'module_apply_default/MobilenetV2/expanded_conv_3/project/BatchNorm/FusedBatchNorm/ReadVariableOp', 'module_apply_default/MobilenetV2/expanded_conv_3/project/BatchNorm/FusedBatchNorm/ReadVariableOp_1', 'module_apply_default/MobilenetV2/expanded_conv_3/project/BatchNorm/FusedBatchNorm', 'module_apply_default/MobilenetV2/expanded_conv_3/project/Identity', 'module_apply_default/MobilenetV2/expanded_conv_3/output', 'module_apply_default/MobilenetV2/expanded_conv_4/input', 'module_apply_default/MobilenetV2/expanded_conv_4/expand/Conv2D/ReadVariableOp', 'module_apply_default/MobilenetV2/expanded_conv_4/expand/Conv2D', 'module_apply_default/MobilenetV2/expanded_conv_4/expand/BatchNorm/ReadVariableOp', 'module_apply_default/MobilenetV2/expanded_conv_4/expand/BatchNorm/ReadVariableOp_1', 'module_apply_default/MobilenetV2/expanded_conv_4/expand/BatchNorm/FusedBatchNorm/ReadVariableOp', 'module_apply_default/MobilenetV2/expanded_conv_4/expand/BatchNorm/FusedBatchNorm/ReadVariableOp_1', 'module_apply_default/MobilenetV2/expanded_conv_4/expand/BatchNorm/FusedBatchNorm', 'module_apply_default/MobilenetV2/expanded_conv_4/expand/Relu6', 'module_apply_default/MobilenetV2/expanded_conv_4/expansion_output', 'module_apply_default/MobilenetV2/expanded_conv_4/depthwise/depthwise/ReadVariableOp', 'module_apply_default/MobilenetV2/expanded_conv_4/depthwise/depthwise', 'module_apply_default/MobilenetV2/expanded_conv_4/depthwise/BatchNorm/ReadVariableOp', 'module_apply_default/MobilenetV2/expanded_conv_4/depthwise/BatchNorm/ReadVariableOp_1', 'module_apply_default/MobilenetV2/expanded_conv_4/depthwise/BatchNorm/FusedBatchNorm/ReadVariableOp', 'module_apply_default/MobilenetV2/expanded_conv_4/depthwise/BatchNorm/FusedBatchNorm/ReadVariableOp_1', 'module_apply_default/MobilenetV2/expanded_conv_4/depthwise/BatchNorm/FusedBatchNorm', 'module_apply_default/MobilenetV2/expanded_conv_4/depthwise/Relu6', 'module_apply_default/MobilenetV2/expanded_conv_4/depthwise_output', 'module_apply_default/MobilenetV2/expanded_conv_4/project/Conv2D/ReadVariableOp', 'module_apply_default/MobilenetV2/expanded_conv_4/project/Conv2D', 'module_apply_default/MobilenetV2/expanded_conv_4/project/BatchNorm/ReadVariableOp', 'module_apply_default/MobilenetV2/expanded_conv_4/project/BatchNorm/ReadVariableOp_1', 'module_apply_default/MobilenetV2/expanded_conv_4/project/BatchNorm/FusedBatchNorm/ReadVariableOp', 'module_apply_default/MobilenetV2/expanded_conv_4/project/BatchNorm/FusedBatchNorm/ReadVariableOp_1', 'module_apply_default/MobilenetV2/expanded_conv_4/project/BatchNorm/FusedBatchNorm', 'module_apply_default/MobilenetV2/expanded_conv_4/project/Identity', 'module_apply_default/MobilenetV2/expanded_conv_4/add', 'module_apply_default/MobilenetV2/expanded_conv_4/output', 'module_apply_default/MobilenetV2/expanded_conv_5/input', 'module_apply_default/MobilenetV2/expanded_conv_5/expand/Conv2D/ReadVariableOp', 'module_apply_default/MobilenetV2/expanded_conv_5/expand/Conv2D', 'module_apply_default/MobilenetV2/expanded_conv_5/expand/BatchNorm/ReadVariableOp', 'module_apply_default/MobilenetV2/expanded_conv_5/expand/BatchNorm/ReadVariableOp_1', 'module_apply_default/MobilenetV2/expanded_conv_5/expand/BatchNorm/FusedBatchNorm/ReadVariableOp', 'module_apply_default/MobilenetV2/expanded_conv_5/expand/BatchNorm/FusedBatchNorm/ReadVariableOp_1', 'module_apply_default/MobilenetV2/expanded_conv_5/expand/BatchNorm/FusedBatchNorm', 'module_apply_default/MobilenetV2/expanded_conv_5/expand/Relu6', 'module_apply_default/MobilenetV2/expanded_conv_5/expansion_output', 'module_apply_default/MobilenetV2/expanded_conv_5/depthwise/depthwise/ReadVariableOp', 'module_apply_default/MobilenetV2/expanded_conv_5/depthwise/depthwise', 'module_apply_default/MobilenetV2/expanded_conv_5/depthwise/BatchNorm/ReadVariableOp', 'module_apply_default/MobilenetV2/expanded_conv_5/depthwise/BatchNorm/ReadVariableOp_1', 'module_apply_default/MobilenetV2/expanded_conv_5/depthwise/BatchNorm/FusedBatchNorm/ReadVariableOp', 'module_apply_default/MobilenetV2/expanded_conv_5/depthwise/BatchNorm/FusedBatchNorm/ReadVariableOp_1', 'module_apply_default/MobilenetV2/expanded_conv_5/depthwise/BatchNorm/FusedBatchNorm', 'module_apply_default/MobilenetV2/expanded_conv_5/depthwise/Relu6', 'module_apply_default/MobilenetV2/expanded_conv_5/depthwise_output', 'module_apply_default/MobilenetV2/expanded_conv_5/project/Conv2D/ReadVariableOp', 'module_apply_default/MobilenetV2/expanded_conv_5/project/Conv2D', 'module_apply_default/MobilenetV2/expanded_conv_5/project/BatchNorm/ReadVariableOp', 'module_apply_default/MobilenetV2/expanded_conv_5/project/BatchNorm/ReadVariableOp_1', 'module_apply_default/MobilenetV2/expanded_conv_5/project/BatchNorm/FusedBatchNorm/ReadVariableOp', 'module_apply_default/MobilenetV2/expanded_conv_5/project/BatchNorm/FusedBatchNorm/ReadVariableOp_1', 'module_apply_default/MobilenetV2/expanded_conv_5/project/BatchNorm/FusedBatchNorm', 'module_apply_default/MobilenetV2/expanded_conv_5/project/Identity', 'module_apply_default/MobilenetV2/expanded_conv_5/add', 'module_apply_default/MobilenetV2/expanded_conv_5/output', 'module_apply_default/MobilenetV2/expanded_conv_6/input', 'module_apply_default/MobilenetV2/expanded_conv_6/expand/Conv2D/ReadVariableOp', 'module_apply_default/MobilenetV2/expanded_conv_6/expand/Conv2D', 'module_apply_default/MobilenetV2/expanded_conv_6/expand/BatchNorm/ReadVariableOp', 'module_apply_default/MobilenetV2/expanded_conv_6/expand/BatchNorm/ReadVariableOp_1', 'module_apply_default/MobilenetV2/expanded_conv_6/expand/BatchNorm/FusedBatchNorm/ReadVariableOp', 'module_apply_default/MobilenetV2/expanded_conv_6/expand/BatchNorm/FusedBatchNorm/ReadVariableOp_1', 'module_apply_default/MobilenetV2/expanded_conv_6/expand/BatchNorm/FusedBatchNorm', 'module_apply_default/MobilenetV2/expanded_conv_6/expand/Relu6', 'module_apply_default/MobilenetV2/expanded_conv_6/expansion_output', 'module_apply_default/MobilenetV2/expanded_conv_6/depthwise/depthwise/ReadVariableOp', 'module_apply_default/MobilenetV2/expanded_conv_6/depthwise/depthwise', 'module_apply_default/MobilenetV2/expanded_conv_6/depthwise/BatchNorm/ReadVariableOp', 'module_apply_default/MobilenetV2/expanded_conv_6/depthwise/BatchNorm/ReadVariableOp_1', 'module_apply_default/MobilenetV2/expanded_conv_6/depthwise/BatchNorm/FusedBatchNorm/ReadVariableOp', 'module_apply_default/MobilenetV2/expanded_conv_6/depthwise/BatchNorm/FusedBatchNorm/ReadVariableOp_1', 'module_apply_default/MobilenetV2/expanded_conv_6/depthwise/BatchNorm/FusedBatchNorm', 'module_apply_default/MobilenetV2/expanded_conv_6/depthwise/Relu6', 'module_apply_default/MobilenetV2/expanded_conv_6/depthwise_output', 'module_apply_default/MobilenetV2/expanded_conv_6/project/Conv2D/ReadVariableOp', 'module_apply_default/MobilenetV2/expanded_conv_6/project/Conv2D', 'module_apply_default/MobilenetV2/expanded_conv_6/project/BatchNorm/ReadVariableOp', 'module_apply_default/MobilenetV2/expanded_conv_6/project/BatchNorm/ReadVariableOp_1', 'module_apply_default/MobilenetV2/expanded_conv_6/project/BatchNorm/FusedBatchNorm/ReadVariableOp', 'module_apply_default/MobilenetV2/expanded_conv_6/project/BatchNorm/FusedBatchNorm/ReadVariableOp_1', 'module_apply_default/MobilenetV2/expanded_conv_6/project/BatchNorm/FusedBatchNorm', 'module_apply_default/MobilenetV2/expanded_conv_6/project/Identity', 'module_apply_default/MobilenetV2/expanded_conv_6/output', 'module_apply_default/MobilenetV2/expanded_conv_7/input', 'module_apply_default/MobilenetV2/expanded_conv_7/expand/Conv2D/ReadVariableOp', 'module_apply_default/MobilenetV2/expanded_conv_7/expand/Conv2D', 'module_apply_default/MobilenetV2/expanded_conv_7/expand/BatchNorm/ReadVariableOp', 'module_apply_default/MobilenetV2/expanded_conv_7/expand/BatchNorm/ReadVariableOp_1', 'module_apply_default/MobilenetV2/expanded_conv_7/expand/BatchNorm/FusedBatchNorm/ReadVariableOp', 'module_apply_default/MobilenetV2/expanded_conv_7/expand/BatchNorm/FusedBatchNorm/ReadVariableOp_1', 'module_apply_default/MobilenetV2/expanded_conv_7/expand/BatchNorm/FusedBatchNorm', 'module_apply_default/MobilenetV2/expanded_conv_7/expand/Relu6', 'module_apply_default/MobilenetV2/expanded_conv_7/expansion_output', 'module_apply_default/MobilenetV2/expanded_conv_7/depthwise/depthwise/ReadVariableOp', 'module_apply_default/MobilenetV2/expanded_conv_7/depthwise/depthwise', 'module_apply_default/MobilenetV2/expanded_conv_7/depthwise/BatchNorm/ReadVariableOp', 'module_apply_default/MobilenetV2/expanded_conv_7/depthwise/BatchNorm/ReadVariableOp_1', 'module_apply_default/MobilenetV2/expanded_conv_7/depthwise/BatchNorm/FusedBatchNorm/ReadVariableOp', 'module_apply_default/MobilenetV2/expanded_conv_7/depthwise/BatchNorm/FusedBatchNorm/ReadVariableOp_1', 'module_apply_default/MobilenetV2/expanded_conv_7/depthwise/BatchNorm/FusedBatchNorm', 'module_apply_default/MobilenetV2/expanded_conv_7/depthwise/Relu6', 'module_apply_default/MobilenetV2/expanded_conv_7/depthwise_output', 'module_apply_default/MobilenetV2/expanded_conv_7/project/Conv2D/ReadVariableOp', 'module_apply_default/MobilenetV2/expanded_conv_7/project/Conv2D', 'module_apply_default/MobilenetV2/expanded_conv_7/project/BatchNorm/ReadVariableOp', 'module_apply_default/MobilenetV2/expanded_conv_7/project/BatchNorm/ReadVariableOp_1', 'module_apply_default/MobilenetV2/expanded_conv_7/project/BatchNorm/FusedBatchNorm/ReadVariableOp', 'module_apply_default/MobilenetV2/expanded_conv_7/project/BatchNorm/FusedBatchNorm/ReadVariableOp_1', 'module_apply_default/MobilenetV2/expanded_conv_7/project/BatchNorm/FusedBatchNorm', 'module_apply_default/MobilenetV2/expanded_conv_7/project/Identity', 'module_apply_default/MobilenetV2/expanded_conv_7/add', 'module_apply_default/MobilenetV2/expanded_conv_7/output', 'module_apply_default/MobilenetV2/expanded_conv_8/input', 'module_apply_default/MobilenetV2/expanded_conv_8/expand/Conv2D/ReadVariableOp', 'module_apply_default/MobilenetV2/expanded_conv_8/expand/Conv2D', 'module_apply_default/MobilenetV2/expanded_conv_8/expand/BatchNorm/ReadVariableOp', 'module_apply_default/MobilenetV2/expanded_conv_8/expand/BatchNorm/ReadVariableOp_1', 'module_apply_default/MobilenetV2/expanded_conv_8/expand/BatchNorm/FusedBatchNorm/ReadVariableOp', 'module_apply_default/MobilenetV2/expanded_conv_8/expand/BatchNorm/FusedBatchNorm/ReadVariableOp_1', 'module_apply_default/MobilenetV2/expanded_conv_8/expand/BatchNorm/FusedBatchNorm', 'module_apply_default/MobilenetV2/expanded_conv_8/expand/Relu6', 'module_apply_default/MobilenetV2/expanded_conv_8/expansion_output', 'module_apply_default/MobilenetV2/expanded_conv_8/depthwise/depthwise/ReadVariableOp', 'module_apply_default/MobilenetV2/expanded_conv_8/depthwise/depthwise', 'module_apply_default/MobilenetV2/expanded_conv_8/depthwise/BatchNorm/ReadVariableOp', 'module_apply_default/MobilenetV2/expanded_conv_8/depthwise/BatchNorm/ReadVariableOp_1', 'module_apply_default/MobilenetV2/expanded_conv_8/depthwise/BatchNorm/FusedBatchNorm/ReadVariableOp', 'module_apply_default/MobilenetV2/expanded_conv_8/depthwise/BatchNorm/FusedBatchNorm/ReadVariableOp_1', 'module_apply_default/MobilenetV2/expanded_conv_8/depthwise/BatchNorm/FusedBatchNorm', 'module_apply_default/MobilenetV2/expanded_conv_8/depthwise/Relu6', 'module_apply_default/MobilenetV2/expanded_conv_8/depthwise_output', 'module_apply_default/MobilenetV2/expanded_conv_8/project/Conv2D/ReadVariableOp', 'module_apply_default/MobilenetV2/expanded_conv_8/project/Conv2D', 'module_apply_default/MobilenetV2/expanded_conv_8/project/BatchNorm/ReadVariableOp', 'module_apply_default/MobilenetV2/expanded_conv_8/project/BatchNorm/ReadVariableOp_1', 'module_apply_default/MobilenetV2/expanded_conv_8/project/BatchNorm/FusedBatchNorm/ReadVariableOp', 'module_apply_default/MobilenetV2/expanded_conv_8/project/BatchNorm/FusedBatchNorm/ReadVariableOp_1', 'module_apply_default/MobilenetV2/expanded_conv_8/project/BatchNorm/FusedBatchNorm', 'module_apply_default/MobilenetV2/expanded_conv_8/project/Identity', 'module_apply_default/MobilenetV2/expanded_conv_8/add', 'module_apply_default/MobilenetV2/expanded_conv_8/output', 'module_apply_default/MobilenetV2/expanded_conv_9/input', 'module_apply_default/MobilenetV2/expanded_conv_9/expand/Conv2D/ReadVariableOp', 'module_apply_default/MobilenetV2/expanded_conv_9/expand/Conv2D', 'module_apply_default/MobilenetV2/expanded_conv_9/expand/BatchNorm/ReadVariableOp', 'module_apply_default/MobilenetV2/expanded_conv_9/expand/BatchNorm/ReadVariableOp_1', 'module_apply_default/MobilenetV2/expanded_conv_9/expand/BatchNorm/FusedBatchNorm/ReadVariableOp', 'module_apply_default/MobilenetV2/expanded_conv_9/expand/BatchNorm/FusedBatchNorm/ReadVariableOp_1', 'module_apply_default/MobilenetV2/expanded_conv_9/expand/BatchNorm/FusedBatchNorm', 'module_apply_default/MobilenetV2/expanded_conv_9/expand/Relu6', 'module_apply_default/MobilenetV2/expanded_conv_9/expansion_output', 'module_apply_default/MobilenetV2/expanded_conv_9/depthwise/depthwise/ReadVariableOp', 'module_apply_default/MobilenetV2/expanded_conv_9/depthwise/depthwise', 'module_apply_default/MobilenetV2/expanded_conv_9/depthwise/BatchNorm/ReadVariableOp', 'module_apply_default/MobilenetV2/expanded_conv_9/depthwise/BatchNorm/ReadVariableOp_1', 'module_apply_default/MobilenetV2/expanded_conv_9/depthwise/BatchNorm/FusedBatchNorm/ReadVariableOp', 'module_apply_default/MobilenetV2/expanded_conv_9/depthwise/BatchNorm/FusedBatchNorm/ReadVariableOp_1', 'module_apply_default/MobilenetV2/expanded_conv_9/depthwise/BatchNorm/FusedBatchNorm', 'module_apply_default/MobilenetV2/expanded_conv_9/depthwise/Relu6', 'module_apply_default/MobilenetV2/expanded_conv_9/depthwise_output', 'module_apply_default/MobilenetV2/expanded_conv_9/project/Conv2D/ReadVariableOp', 'module_apply_default/MobilenetV2/expanded_conv_9/project/Conv2D', 'module_apply_default/MobilenetV2/expanded_conv_9/project/BatchNorm/ReadVariableOp', 'module_apply_default/MobilenetV2/expanded_conv_9/project/BatchNorm/ReadVariableOp_1', 'module_apply_default/MobilenetV2/expanded_conv_9/project/BatchNorm/FusedBatchNorm/ReadVariableOp', 'module_apply_default/MobilenetV2/expanded_conv_9/project/BatchNorm/FusedBatchNorm/ReadVariableOp_1', 'module_apply_default/MobilenetV2/expanded_conv_9/project/BatchNorm/FusedBatchNorm', 'module_apply_default/MobilenetV2/expanded_conv_9/project/Identity', 'module_apply_default/MobilenetV2/expanded_conv_9/add', 'module_apply_default/MobilenetV2/expanded_conv_9/output', 'module_apply_default/MobilenetV2/expanded_conv_10/input', 'module_apply_default/MobilenetV2/expanded_conv_10/expand/Conv2D/ReadVariableOp', 'module_apply_default/MobilenetV2/expanded_conv_10/expand/Conv2D', 'module_apply_default/MobilenetV2/expanded_conv_10/expand/BatchNorm/ReadVariableOp', 'module_apply_default/MobilenetV2/expanded_conv_10/expand/BatchNorm/ReadVariableOp_1', 'module_apply_default/MobilenetV2/expanded_conv_10/expand/BatchNorm/FusedBatchNorm/ReadVariableOp', 'module_apply_default/MobilenetV2/expanded_conv_10/expand/BatchNorm/FusedBatchNorm/ReadVariableOp_1', 'module_apply_default/MobilenetV2/expanded_conv_10/expand/BatchNorm/FusedBatchNorm', 'module_apply_default/MobilenetV2/expanded_conv_10/expand/Relu6', 'module_apply_default/MobilenetV2/expanded_conv_10/expansion_output', 'module_apply_default/MobilenetV2/expanded_conv_10/depthwise/depthwise/ReadVariableOp', 'module_apply_default/MobilenetV2/expanded_conv_10/depthwise/depthwise', 'module_apply_default/MobilenetV2/expanded_conv_10/depthwise/BatchNorm/ReadVariableOp', 'module_apply_default/MobilenetV2/expanded_conv_10/depthwise/BatchNorm/ReadVariableOp_1', 'module_apply_default/MobilenetV2/expanded_conv_10/depthwise/BatchNorm/FusedBatchNorm/ReadVariableOp', 'module_apply_default/MobilenetV2/expanded_conv_10/depthwise/BatchNorm/FusedBatchNorm/ReadVariableOp_1', 'module_apply_default/MobilenetV2/expanded_conv_10/depthwise/BatchNorm/FusedBatchNorm', 'module_apply_default/MobilenetV2/expanded_conv_10/depthwise/Relu6', 'module_apply_default/MobilenetV2/expanded_conv_10/depthwise_output', 'module_apply_default/MobilenetV2/expanded_conv_10/project/Conv2D/ReadVariableOp', 'module_apply_default/MobilenetV2/expanded_conv_10/project/Conv2D', 'module_apply_default/MobilenetV2/expanded_conv_10/project/BatchNorm/ReadVariableOp', 'module_apply_default/MobilenetV2/expanded_conv_10/project/BatchNorm/ReadVariableOp_1', 'module_apply_default/MobilenetV2/expanded_conv_10/project/BatchNorm/FusedBatchNorm/ReadVariableOp', 'module_apply_default/MobilenetV2/expanded_conv_10/project/BatchNorm/FusedBatchNorm/ReadVariableOp_1', 'module_apply_default/MobilenetV2/expanded_conv_10/project/BatchNorm/FusedBatchNorm', 'module_apply_default/MobilenetV2/expanded_conv_10/project/Identity', 'module_apply_default/MobilenetV2/expanded_conv_10/output', 'module_apply_default/MobilenetV2/expanded_conv_11/input', 'module_apply_default/MobilenetV2/expanded_conv_11/expand/Conv2D/ReadVariableOp', 'module_apply_default/MobilenetV2/expanded_conv_11/expand/Conv2D', 'module_apply_default/MobilenetV2/expanded_conv_11/expand/BatchNorm/ReadVariableOp', 'module_apply_default/MobilenetV2/expanded_conv_11/expand/BatchNorm/ReadVariableOp_1', 'module_apply_default/MobilenetV2/expanded_conv_11/expand/BatchNorm/FusedBatchNorm/ReadVariableOp', 'module_apply_default/MobilenetV2/expanded_conv_11/expand/BatchNorm/FusedBatchNorm/ReadVariableOp_1', 'module_apply_default/MobilenetV2/expanded_conv_11/expand/BatchNorm/FusedBatchNorm', 'module_apply_default/MobilenetV2/expanded_conv_11/expand/Relu6', 'module_apply_default/MobilenetV2/expanded_conv_11/expansion_output', 'module_apply_default/MobilenetV2/expanded_conv_11/depthwise/depthwise/ReadVariableOp', 'module_apply_default/MobilenetV2/expanded_conv_11/depthwise/depthwise', 'module_apply_default/MobilenetV2/expanded_conv_11/depthwise/BatchNorm/ReadVariableOp', 'module_apply_default/MobilenetV2/expanded_conv_11/depthwise/BatchNorm/ReadVariableOp_1', 'module_apply_default/MobilenetV2/expanded_conv_11/depthwise/BatchNorm/FusedBatchNorm/ReadVariableOp', 'module_apply_default/MobilenetV2/expanded_conv_11/depthwise/BatchNorm/FusedBatchNorm/ReadVariableOp_1', 'module_apply_default/MobilenetV2/expanded_conv_11/depthwise/BatchNorm/FusedBatchNorm', 'module_apply_default/MobilenetV2/expanded_conv_11/depthwise/Relu6', 'module_apply_default/MobilenetV2/expanded_conv_11/depthwise_output', 'module_apply_default/MobilenetV2/expanded_conv_11/project/Conv2D/ReadVariableOp', 'module_apply_default/MobilenetV2/expanded_conv_11/project/Conv2D', 'module_apply_default/MobilenetV2/expanded_conv_11/project/BatchNorm/ReadVariableOp', 'module_apply_default/MobilenetV2/expanded_conv_11/project/BatchNorm/ReadVariableOp_1', 'module_apply_default/MobilenetV2/expanded_conv_11/project/BatchNorm/FusedBatchNorm/ReadVariableOp', 'module_apply_default/MobilenetV2/expanded_conv_11/project/BatchNorm/FusedBatchNorm/ReadVariableOp_1', 'module_apply_default/MobilenetV2/expanded_conv_11/project/BatchNorm/FusedBatchNorm', 'module_apply_default/MobilenetV2/expanded_conv_11/project/Identity', 'module_apply_default/MobilenetV2/expanded_conv_11/add', 'module_apply_default/MobilenetV2/expanded_conv_11/output', 'module_apply_default/MobilenetV2/expanded_conv_12/input', 'module_apply_default/MobilenetV2/expanded_conv_12/expand/Conv2D/ReadVariableOp', 'module_apply_default/MobilenetV2/expanded_conv_12/expand/Conv2D', 'module_apply_default/MobilenetV2/expanded_conv_12/expand/BatchNorm/ReadVariableOp', 'module_apply_default/MobilenetV2/expanded_conv_12/expand/BatchNorm/ReadVariableOp_1', 'module_apply_default/MobilenetV2/expanded_conv_12/expand/BatchNorm/FusedBatchNorm/ReadVariableOp', 'module_apply_default/MobilenetV2/expanded_conv_12/expand/BatchNorm/FusedBatchNorm/ReadVariableOp_1', 'module_apply_default/MobilenetV2/expanded_conv_12/expand/BatchNorm/FusedBatchNorm', 'module_apply_default/MobilenetV2/expanded_conv_12/expand/Relu6', 'module_apply_default/MobilenetV2/expanded_conv_12/expansion_output', 'module_apply_default/MobilenetV2/expanded_conv_12/depthwise/depthwise/ReadVariableOp', 'module_apply_default/MobilenetV2/expanded_conv_12/depthwise/depthwise', 'module_apply_default/MobilenetV2/expanded_conv_12/depthwise/BatchNorm/ReadVariableOp', 'module_apply_default/MobilenetV2/expanded_conv_12/depthwise/BatchNorm/ReadVariableOp_1', 'module_apply_default/MobilenetV2/expanded_conv_12/depthwise/BatchNorm/FusedBatchNorm/ReadVariableOp', 'module_apply_default/MobilenetV2/expanded_conv_12/depthwise/BatchNorm/FusedBatchNorm/ReadVariableOp_1', 'module_apply_default/MobilenetV2/expanded_conv_12/depthwise/BatchNorm/FusedBatchNorm', 'module_apply_default/MobilenetV2/expanded_conv_12/depthwise/Relu6', 'module_apply_default/MobilenetV2/expanded_conv_12/depthwise_output', 'module_apply_default/MobilenetV2/expanded_conv_12/project/Conv2D/ReadVariableOp', 'module_apply_default/MobilenetV2/expanded_conv_12/project/Conv2D', 'module_apply_default/MobilenetV2/expanded_conv_12/project/BatchNorm/ReadVariableOp', 'module_apply_default/MobilenetV2/expanded_conv_12/project/BatchNorm/ReadVariableOp_1', 'module_apply_default/MobilenetV2/expanded_conv_12/project/BatchNorm/FusedBatchNorm/ReadVariableOp', 'module_apply_default/MobilenetV2/expanded_conv_12/project/BatchNorm/FusedBatchNorm/ReadVariableOp_1', 'module_apply_default/MobilenetV2/expanded_conv_12/project/BatchNorm/FusedBatchNorm', 'module_apply_default/MobilenetV2/expanded_conv_12/project/Identity', 'module_apply_default/MobilenetV2/expanded_conv_12/add', 'module_apply_default/MobilenetV2/expanded_conv_12/output', 'module_apply_default/MobilenetV2/expanded_conv_13/input', 'module_apply_default/MobilenetV2/expanded_conv_13/expand/Conv2D/ReadVariableOp', 'module_apply_default/MobilenetV2/expanded_conv_13/expand/Conv2D', 'module_apply_default/MobilenetV2/expanded_conv_13/expand/BatchNorm/ReadVariableOp', 'module_apply_default/MobilenetV2/expanded_conv_13/expand/BatchNorm/ReadVariableOp_1', 'module_apply_default/MobilenetV2/expanded_conv_13/expand/BatchNorm/FusedBatchNorm/ReadVariableOp', 'module_apply_default/MobilenetV2/expanded_conv_13/expand/BatchNorm/FusedBatchNorm/ReadVariableOp_1', 'module_apply_default/MobilenetV2/expanded_conv_13/expand/BatchNorm/FusedBatchNorm', 'module_apply_default/MobilenetV2/expanded_conv_13/expand/Relu6', 'module_apply_default/MobilenetV2/expanded_conv_13/expansion_output', 'module_apply_default/MobilenetV2/expanded_conv_13/depthwise/depthwise/ReadVariableOp', 'module_apply_default/MobilenetV2/expanded_conv_13/depthwise/depthwise', 'module_apply_default/MobilenetV2/expanded_conv_13/depthwise/BatchNorm/ReadVariableOp', 'module_apply_default/MobilenetV2/expanded_conv_13/depthwise/BatchNorm/ReadVariableOp_1', 'module_apply_default/MobilenetV2/expanded_conv_13/depthwise/BatchNorm/FusedBatchNorm/ReadVariableOp', 'module_apply_default/MobilenetV2/expanded_conv_13/depthwise/BatchNorm/FusedBatchNorm/ReadVariableOp_1', 'module_apply_default/MobilenetV2/expanded_conv_13/depthwise/BatchNorm/FusedBatchNorm', 'module_apply_default/MobilenetV2/expanded_conv_13/depthwise/Relu6', 'module_apply_default/MobilenetV2/expanded_conv_13/depthwise_output', 'module_apply_default/MobilenetV2/expanded_conv_13/project/Conv2D/ReadVariableOp', 'module_apply_default/MobilenetV2/expanded_conv_13/project/Conv2D', 'module_apply_default/MobilenetV2/expanded_conv_13/project/BatchNorm/ReadVariableOp', 'module_apply_default/MobilenetV2/expanded_conv_13/project/BatchNorm/ReadVariableOp_1', 'module_apply_default/MobilenetV2/expanded_conv_13/project/BatchNorm/FusedBatchNorm/ReadVariableOp', 'module_apply_default/MobilenetV2/expanded_conv_13/project/BatchNorm/FusedBatchNorm/ReadVariableOp_1', 'module_apply_default/MobilenetV2/expanded_conv_13/project/BatchNorm/FusedBatchNorm', 'module_apply_default/MobilenetV2/expanded_conv_13/project/Identity', 'module_apply_default/MobilenetV2/expanded_conv_13/output', 'module_apply_default/MobilenetV2/expanded_conv_14/input', 'module_apply_default/MobilenetV2/expanded_conv_14/expand/Conv2D/ReadVariableOp', 'module_apply_default/MobilenetV2/expanded_conv_14/expand/Conv2D', 'module_apply_default/MobilenetV2/expanded_conv_14/expand/BatchNorm/ReadVariableOp', 'module_apply_default/MobilenetV2/expanded_conv_14/expand/BatchNorm/ReadVariableOp_1', 'module_apply_default/MobilenetV2/expanded_conv_14/expand/BatchNorm/FusedBatchNorm/ReadVariableOp', 'module_apply_default/MobilenetV2/expanded_conv_14/expand/BatchNorm/FusedBatchNorm/ReadVariableOp_1', 'module_apply_default/MobilenetV2/expanded_conv_14/expand/BatchNorm/FusedBatchNorm', 'module_apply_default/MobilenetV2/expanded_conv_14/expand/Relu6', 'module_apply_default/MobilenetV2/expanded_conv_14/expansion_output', 'module_apply_default/MobilenetV2/expanded_conv_14/depthwise/depthwise/ReadVariableOp', 'module_apply_default/MobilenetV2/expanded_conv_14/depthwise/depthwise', 'module_apply_default/MobilenetV2/expanded_conv_14/depthwise/BatchNorm/ReadVariableOp', 'module_apply_default/MobilenetV2/expanded_conv_14/depthwise/BatchNorm/ReadVariableOp_1', 'module_apply_default/MobilenetV2/expanded_conv_14/depthwise/BatchNorm/FusedBatchNorm/ReadVariableOp', 'module_apply_default/MobilenetV2/expanded_conv_14/depthwise/BatchNorm/FusedBatchNorm/ReadVariableOp_1', 'module_apply_default/MobilenetV2/expanded_conv_14/depthwise/BatchNorm/FusedBatchNorm', 'module_apply_default/MobilenetV2/expanded_conv_14/depthwise/Relu6', 'module_apply_default/MobilenetV2/expanded_conv_14/depthwise_output', 'module_apply_default/MobilenetV2/expanded_conv_14/project/Conv2D/ReadVariableOp', 'module_apply_default/MobilenetV2/expanded_conv_14/project/Conv2D', 'module_apply_default/MobilenetV2/expanded_conv_14/project/BatchNorm/ReadVariableOp', 'module_apply_default/MobilenetV2/expanded_conv_14/project/BatchNorm/ReadVariableOp_1', 'module_apply_default/MobilenetV2/expanded_conv_14/project/BatchNorm/FusedBatchNorm/ReadVariableOp', 'module_apply_default/MobilenetV2/expanded_conv_14/project/BatchNorm/FusedBatchNorm/ReadVariableOp_1', 'module_apply_default/MobilenetV2/expanded_conv_14/project/BatchNorm/FusedBatchNorm', 'module_apply_default/MobilenetV2/expanded_conv_14/project/Identity', 'module_apply_default/MobilenetV2/expanded_conv_14/add', 'module_apply_default/MobilenetV2/expanded_conv_14/output', 'module_apply_default/MobilenetV2/expanded_conv_15/input', 'module_apply_default/MobilenetV2/expanded_conv_15/expand/Conv2D/ReadVariableOp', 'module_apply_default/MobilenetV2/expanded_conv_15/expand/Conv2D', 'module_apply_default/MobilenetV2/expanded_conv_15/expand/BatchNorm/ReadVariableOp', 'module_apply_default/MobilenetV2/expanded_conv_15/expand/BatchNorm/ReadVariableOp_1', 'module_apply_default/MobilenetV2/expanded_conv_15/expand/BatchNorm/FusedBatchNorm/ReadVariableOp', 'module_apply_default/MobilenetV2/expanded_conv_15/expand/BatchNorm/FusedBatchNorm/ReadVariableOp_1', 'module_apply_default/MobilenetV2/expanded_conv_15/expand/BatchNorm/FusedBatchNorm', 'module_apply_default/MobilenetV2/expanded_conv_15/expand/Relu6', 'module_apply_default/MobilenetV2/expanded_conv_15/expansion_output', 'module_apply_default/MobilenetV2/expanded_conv_15/depthwise/depthwise/ReadVariableOp', 'module_apply_default/MobilenetV2/expanded_conv_15/depthwise/depthwise', 'module_apply_default/MobilenetV2/expanded_conv_15/depthwise/BatchNorm/ReadVariableOp', 'module_apply_default/MobilenetV2/expanded_conv_15/depthwise/BatchNorm/ReadVariableOp_1', 'module_apply_default/MobilenetV2/expanded_conv_15/depthwise/BatchNorm/FusedBatchNorm/ReadVariableOp', 'module_apply_default/MobilenetV2/expanded_conv_15/depthwise/BatchNorm/FusedBatchNorm/ReadVariableOp_1', 'module_apply_default/MobilenetV2/expanded_conv_15/depthwise/BatchNorm/FusedBatchNorm', 'module_apply_default/MobilenetV2/expanded_conv_15/depthwise/Relu6', 'module_apply_default/MobilenetV2/expanded_conv_15/depthwise_output', 'module_apply_default/MobilenetV2/expanded_conv_15/project/Conv2D/ReadVariableOp', 'module_apply_default/MobilenetV2/expanded_conv_15/project/Conv2D', 'module_apply_default/MobilenetV2/expanded_conv_15/project/BatchNorm/ReadVariableOp', 'module_apply_default/MobilenetV2/expanded_conv_15/project/BatchNorm/ReadVariableOp_1', 'module_apply_default/MobilenetV2/expanded_conv_15/project/BatchNorm/FusedBatchNorm/ReadVariableOp', 'module_apply_default/MobilenetV2/expanded_conv_15/project/BatchNorm/FusedBatchNorm/ReadVariableOp_1', 'module_apply_default/MobilenetV2/expanded_conv_15/project/BatchNorm/FusedBatchNorm', 'module_apply_default/MobilenetV2/expanded_conv_15/project/Identity', 'module_apply_default/MobilenetV2/expanded_conv_15/add', 'module_apply_default/MobilenetV2/expanded_conv_15/output', 'module_apply_default/MobilenetV2/expanded_conv_16/input', 'module_apply_default/MobilenetV2/expanded_conv_16/expand/Conv2D/ReadVariableOp', 'module_apply_default/MobilenetV2/expanded_conv_16/expand/Conv2D', 'module_apply_default/MobilenetV2/expanded_conv_16/expand/BatchNorm/ReadVariableOp', 'module_apply_default/MobilenetV2/expanded_conv_16/expand/BatchNorm/ReadVariableOp_1', 'module_apply_default/MobilenetV2/expanded_conv_16/expand/BatchNorm/FusedBatchNorm/ReadVariableOp', 'module_apply_default/MobilenetV2/expanded_conv_16/expand/BatchNorm/FusedBatchNorm/ReadVariableOp_1', 'module_apply_default/MobilenetV2/expanded_conv_16/expand/BatchNorm/FusedBatchNorm', 'module_apply_default/MobilenetV2/expanded_conv_16/expand/Relu6', 'module_apply_default/MobilenetV2/expanded_conv_16/expansion_output', 'module_apply_default/MobilenetV2/expanded_conv_16/depthwise/depthwise/ReadVariableOp', 'module_apply_default/MobilenetV2/expanded_conv_16/depthwise/depthwise', 'module_apply_default/MobilenetV2/expanded_conv_16/depthwise/BatchNorm/ReadVariableOp', 'module_apply_default/MobilenetV2/expanded_conv_16/depthwise/BatchNorm/ReadVariableOp_1', 'module_apply_default/MobilenetV2/expanded_conv_16/depthwise/BatchNorm/FusedBatchNorm/ReadVariableOp', 'module_apply_default/MobilenetV2/expanded_conv_16/depthwise/BatchNorm/FusedBatchNorm/ReadVariableOp_1', 'module_apply_default/MobilenetV2/expanded_conv_16/depthwise/BatchNorm/FusedBatchNorm', 'module_apply_default/MobilenetV2/expanded_conv_16/depthwise/Relu6', 'module_apply_default/MobilenetV2/expanded_conv_16/depthwise_output', 'module_apply_default/MobilenetV2/expanded_conv_16/project/Conv2D/ReadVariableOp', 'module_apply_default/MobilenetV2/expanded_conv_16/project/Conv2D', 'module_apply_default/MobilenetV2/expanded_conv_16/project/BatchNorm/ReadVariableOp', 'module_apply_default/MobilenetV2/expanded_conv_16/project/BatchNorm/ReadVariableOp_1', 'module_apply_default/MobilenetV2/expanded_conv_16/project/BatchNorm/FusedBatchNorm/ReadVariableOp', 'module_apply_default/MobilenetV2/expanded_conv_16/project/BatchNorm/FusedBatchNorm/ReadVariableOp_1', 'module_apply_default/MobilenetV2/expanded_conv_16/project/BatchNorm/FusedBatchNorm', 'module_apply_default/MobilenetV2/expanded_conv_16/project/Identity', 'module_apply_default/MobilenetV2/expanded_conv_16/output', 'module_apply_default/MobilenetV2/Conv_1/Conv2D/ReadVariableOp', 'module_apply_default/MobilenetV2/Conv_1/Conv2D', 'module_apply_default/MobilenetV2/Conv_1/BatchNorm/ReadVariableOp', 'module_apply_default/MobilenetV2/Conv_1/BatchNorm/ReadVariableOp_1', 'module_apply_default/MobilenetV2/Conv_1/BatchNorm/FusedBatchNorm/ReadVariableOp', 'module_apply_default/MobilenetV2/Conv_1/BatchNorm/FusedBatchNorm/ReadVariableOp_1', 'module_apply_default/MobilenetV2/Conv_1/BatchNorm/FusedBatchNorm', 'module_apply_default/MobilenetV2/Conv_1/Relu6', 'module_apply_default/MobilenetV2/embedding', 'module_apply_default/MobilenetV2/Logits/AvgPool', 'module_apply_default/hub_output/feature_vector/SpatialSqueeze', 'input/BottleneckInputPlaceholder', 'final_retrain_ops/weights/final_weights', 'final_retrain_ops/weights/final_weights/read', 'final_retrain_ops/biases/final_biases', 'final_retrain_ops/biases/final_biases/read', 'final_retrain_ops/Wx_plus_b/MatMul', 'final_retrain_ops/Wx_plus_b/add', 'final_result']\n"
     ]
    }
   ],
   "source": [
    "GRAPH_PB_PATH = 'C:\\\\Users\\\\Hp\\\\Downloads\\\\satellite-image-deep-learning-master\\\\satellite-image-deep-learning-master\\\\land_classification\\\\tensorflow\\\\mobilenet_v2\\\\output_graph.pb'\n",
    "with tf.Session() as sess:\n",
    "   print(\"load graph\")\n",
    "   with gfile.FastGFile(GRAPH_PB_PATH,'rb') as f:\n",
    "       graph_def = tf.GraphDef()\n",
    "   graph_def.ParseFromString(f.read())\n",
    "   sess.graph.as_default()\n",
    "   tf.import_graph_def(graph_def, name='')\n",
    "   graph_nodes=[n for n in graph_def.node]\n",
    "   names = []\n",
    "   for t in graph_nodes:\n",
    "      names.append(t.name)\n",
    "   print(names)"
   ]
  },
  {
   "cell_type": "code",
   "execution_count": 4,
   "metadata": {},
   "outputs": [
    {
     "name": "stdout",
     "output_type": "stream",
     "text": [
      "The model (`.pb`) file 9 MB\n"
     ]
    }
   ],
   "source": [
    "model_path = \"./mobilenet_v2/output_graph.pb\"\n",
    "file_size = int(os.stat(model_path).st_size/1e6)\n",
    "print(\"The model (`.pb`) file {} MB\".format(file_size))"
   ]
  },
  {
   "cell_type": "code",
   "execution_count": 5,
   "metadata": {},
   "outputs": [],
   "source": [
    "label_file = \"./mobilenet_v2/output_labels.txt\""
   ]
  },
  {
   "cell_type": "code",
   "execution_count": 6,
   "metadata": {},
   "outputs": [],
   "source": [
    "from label_image import load_graph, load_labels, read_tensor_from_image_file"
   ]
  },
  {
   "cell_type": "code",
   "execution_count": 7,
   "metadata": {},
   "outputs": [],
   "source": [
    "global graph\n",
    "graph = load_graph(model_path)"
   ]
  },
  {
   "cell_type": "code",
   "execution_count": 18,
   "metadata": {},
   "outputs": [],
   "source": [
    "global img_path\n",
    "img_path = 'C:\\\\Users\\\\Hp\\\\Downloads\\\\6038468-637595f25e2bfe3f004b7761e94db1d8b2d6c77e\\\\6038468-637595f25e2bfe3f004b7761e94db1d8b2d6c77e\\\\f4.PNG'"
   ]
  },
  {
   "cell_type": "code",
   "execution_count": 9,
   "metadata": {},
   "outputs": [
    {
     "name": "stdout",
     "output_type": "stream",
     "text": [
      "(1, 224, 224, 3)\n"
     ]
    }
   ],
   "source": [
    "input_operation = graph.get_operation_by_name(\"import/Placeholder\")\n",
    "output_operation = graph.get_operation_by_name(\"import/final_result\")\n",
    "\n",
    "input_height = 224\n",
    "input_width = 224\n",
    "images_list = []\n",
    "# for i in range(1,11):\n",
    "# img_path_new = img_path + str(i) + '.PNG'\n",
    "global t\n",
    "t = read_tensor_from_image_file(img_path, input_height=input_height, input_width=input_width) \n",
    "\n",
    "print(t.shape)\n",
    "    \n",
    "#     with tf.Session(graph=graph) as sess:\n",
    "#         results = sess.run(output_operation.outputs[0], {\n",
    "#             input_operation.outputs[0]: t\n",
    "#         })\n",
    "#     results = np.squeeze(results)\n",
    "#     top_k = results.argsort()[-5:][::-1]\n",
    "#     labels = load_labels(label_file)\n",
    "#     print(\"Results for image {} \\n\".format(i)\n",
    "\n",
    "#     for j in top_k:\n",
    "#         print(labels[j], results[j])\n",
    "        \n",
    "#     print(\"\\n\\n\")\n",
    "    \n",
    "#     print(t.shape)\n",
    "#     list.append(t)\n",
    "    \n"
   ]
  },
  {
   "cell_type": "code",
   "execution_count": 10,
   "metadata": {},
   "outputs": [
    {
     "name": "stdout",
     "output_type": "stream",
     "text": [
      "oil gas field 0.3096601\n",
      "cemetery 0.24338113\n",
      "beach 0.169541\n",
      "ferry terminal 0.06387028\n",
      "river 0.05608331\n",
      "[1.9025896e-03 5.5156965e-03 1.5529247e-02 1.6954100e-01 1.5762953e-02\n",
      " 2.4338113e-01 1.1615172e-02 9.2418706e-03 1.8725684e-03 9.3947056e-05\n",
      " 1.6723844e-04 1.0318784e-04 6.3870281e-02 2.2277522e-03 2.0352665e-02\n",
      " 1.1024425e-03 5.0600348e-03 1.1285259e-03 3.8018383e-03 1.1476145e-04\n",
      " 1.4335882e-03 3.0966011e-01 8.6848224e-03 2.5477579e-03 3.4399787e-03\n",
      " 1.5228194e-03 1.1969114e-03 5.6083310e-02 5.3739161e-03 4.9087079e-03\n",
      " 5.2393065e-04 6.4022066e-03 3.6014791e-04 2.9069185e-03 1.4055961e-04\n",
      " 8.9363279e-03 1.0666625e-02 2.8264492e-03]\n"
     ]
    }
   ],
   "source": [
    "with tf.Session(graph=graph) as sess:\n",
    "    results = sess.run(output_operation.outputs[0], {\n",
    "        input_operation.outputs[0]: t\n",
    "    })\n",
    "results = np.squeeze(results)\n",
    "\n",
    "top_k = results.argsort()[-5:][::-1]\n",
    "labels = load_labels(label_file)\n",
    "\n",
    "for i in top_k:\n",
    "    print(labels[i], results[i])\n",
    "    \n",
    "print(results)"
   ]
  },
  {
   "cell_type": "code",
   "execution_count": 11,
   "metadata": {},
   "outputs": [
    {
     "name": "stdout",
     "output_type": "stream",
     "text": [
      "['airplane', 'baseball field', 'basketball court', 'beach', 'bridge', 'cemetery', 'chaparral', 'christmas tree farm', 'closed road', 'coastal mansion', 'crosswalk', 'dense residential', 'ferry terminal', 'football field', 'forest', 'freeway', 'golf course', 'harbor', 'intersection', 'mobile home park', 'nursing home', 'oil gas field', 'oil well', 'overpass', 'parking lot', 'parking space', 'railway', 'river', 'runway', 'runway marking', 'shipping yard', 'solar panel', 'sparse residential', 'storage tank', 'swimming pool', 'tennis court', 'transformer station', 'wastewater treatment plant']\n",
      "38\n"
     ]
    }
   ],
   "source": [
    "predict_model = lambda x: model.predict_proba(x).astype(float)\n",
    "\n",
    "feature_list = list(i.strip(\"\\n\") for i in open(\"./mobilenet_v2/output_labels.txt\").readlines())\n",
    "print(feature_list)\n",
    "\n",
    "print(len(feature_list))"
   ]
  },
  {
   "cell_type": "code",
   "execution_count": 13,
   "metadata": {},
   "outputs": [],
   "source": [
    "explainer = lime_image.LimeImageExplainer()"
   ]
  },
  {
   "cell_type": "code",
   "execution_count": 20,
   "metadata": {},
   "outputs": [
    {
     "name": "stdout",
     "output_type": "stream",
     "text": [
      "The autoreload extension is already loaded. To reload it, use:\n",
      "  %reload_ext autoreload\n"
     ]
    }
   ],
   "source": [
    "%load_ext autoreload\n",
    "%autoreload 2\n",
    "import os,sys\n",
    "import glob\n",
    "try:\n",
    "    import lime\n",
    "except:\n",
    "    sys.path.append(os.path.join('..', '..')) # add the current directory\n",
    "    import lime\n",
    "from lime import lime_image"
   ]
  },
  {
   "cell_type": "code",
   "execution_count": 30,
   "metadata": {},
   "outputs": [],
   "source": [
    "img_path = glob.glob(img_path, recursive=True)[0]\n",
    "# print(img_path)\n",
    "img = plt.imread(img_path)\n",
    "# print(img.shape)\n",
    "# plt.imshow(img);\n",
    "\n",
    "global data\n",
    "data = np.asarray(img)\n",
    "# print(data)"
   ]
  },
  {
   "cell_type": "code",
   "execution_count": 32,
   "metadata": {},
   "outputs": [
    {
     "name": "stdout",
     "output_type": "stream",
     "text": [
      "[[[0.5176471  0.42745098 0.3882353  1.        ]\n",
      "  [0.5176471  0.42745098 0.3882353  1.        ]\n",
      "  [0.5176471  0.4117647  0.3882353  1.        ]\n",
      "  ...\n",
      "  [0.48235294 0.4117647  0.3882353  1.        ]\n",
      "  [0.5019608  0.42352942 0.40392157 1.        ]\n",
      "  [0.45490196 0.38039216 0.35686275 1.        ]]\n",
      "\n",
      " [[0.5176471  0.42745098 0.3882353  1.        ]\n",
      "  [0.5176471  0.41960785 0.3882353  1.        ]\n",
      "  [0.5176471  0.4117647  0.3882353  1.        ]\n",
      "  ...\n",
      "  [0.48235294 0.4117647  0.3882353  1.        ]\n",
      "  [0.5137255  0.43137255 0.41568628 1.        ]\n",
      "  [0.47843137 0.40392157 0.38431373 1.        ]]\n",
      "\n",
      " [[0.5176471  0.41568628 0.3882353  1.        ]\n",
      "  [0.5058824  0.4117647  0.3882353  1.        ]\n",
      "  [0.49411765 0.4117647  0.3882353  1.        ]\n",
      "  ...\n",
      "  [0.48235294 0.39607844 0.36078432 1.        ]\n",
      "  [0.49411765 0.41960785 0.4        1.        ]\n",
      "  [0.4862745  0.4117647  0.39607844 1.        ]]\n",
      "\n",
      " ...\n",
      "\n",
      " [[0.37254903 0.3647059  0.28627452 1.        ]\n",
      "  [0.34901962 0.3372549  0.25882354 1.        ]\n",
      "  [0.3254902  0.33333334 0.25882354 1.        ]\n",
      "  ...\n",
      "  [0.4745098  0.40784314 0.36862746 1.        ]\n",
      "  [0.42745098 0.3529412  0.3019608  1.        ]\n",
      "  [0.37254903 0.3137255  0.2627451  1.        ]]\n",
      "\n",
      " [[0.36078432 0.35686275 0.27058825 1.        ]\n",
      "  [0.32941177 0.33333334 0.25882354 1.        ]\n",
      "  [0.32156864 0.33333334 0.25882354 1.        ]\n",
      "  ...\n",
      "  [0.43137255 0.36862746 0.3137255  1.        ]\n",
      "  [0.39607844 0.33333334 0.2901961  1.        ]\n",
      "  [0.3764706  0.3137255  0.2627451  1.        ]]\n",
      "\n",
      " [[0.3529412  0.34509805 0.2627451  1.        ]\n",
      "  [0.32156864 0.32941177 0.25882354 1.        ]\n",
      "  [0.32156864 0.3254902  0.25882354 1.        ]\n",
      "  ...\n",
      "  [0.38431373 0.3372549  0.2901961  1.        ]\n",
      "  [0.3882353  0.3254902  0.2901961  1.        ]\n",
      "  [0.38431373 0.32156864 0.27450982 1.        ]]]\n"
     ]
    },
    {
     "ename": "RuntimeError",
     "evalue": "sequence argument must have length equal to input rank",
     "output_type": "error",
     "traceback": [
      "\u001b[1;31m---------------------------------------------------------------------------\u001b[0m",
      "\u001b[1;31mRuntimeError\u001b[0m                              Traceback (most recent call last)",
      "\u001b[1;32m<ipython-input-32-03d95ce39a0d>\u001b[0m in \u001b[0;36m<module>\u001b[1;34m\u001b[0m\n\u001b[0;32m      1\u001b[0m \u001b[1;31m# print(len(t.shape))\u001b[0m\u001b[1;33m\u001b[0m\u001b[1;33m\u001b[0m\u001b[0m\n\u001b[0;32m      2\u001b[0m \u001b[0mprint\u001b[0m\u001b[1;33m(\u001b[0m\u001b[0mdata\u001b[0m\u001b[1;33m)\u001b[0m\u001b[1;33m\u001b[0m\u001b[0m\n\u001b[1;32m----> 3\u001b[1;33m \u001b[0mexplanation\u001b[0m \u001b[1;33m=\u001b[0m \u001b[0mexplainer\u001b[0m\u001b[1;33m.\u001b[0m\u001b[0mexplain_instance\u001b[0m\u001b[1;33m(\u001b[0m\u001b[0mt\u001b[0m\u001b[1;33m,\u001b[0m \u001b[0mresults\u001b[0m\u001b[1;33m,\u001b[0m \u001b[0mtop_labels\u001b[0m\u001b[1;33m=\u001b[0m\u001b[1;36m5\u001b[0m\u001b[1;33m,\u001b[0m \u001b[0mhide_color\u001b[0m\u001b[1;33m=\u001b[0m\u001b[1;36m0\u001b[0m\u001b[1;33m,\u001b[0m \u001b[0mnum_samples\u001b[0m\u001b[1;33m=\u001b[0m\u001b[1;36m1000\u001b[0m\u001b[1;33m)\u001b[0m\u001b[1;33m\u001b[0m\u001b[0m\n\u001b[0m",
      "\u001b[1;32mc:\\users\\hp\\appdata\\local\\programs\\python\\python36\\lib\\site-packages\\lime\\lime_image.py\u001b[0m in \u001b[0;36mexplain_instance\u001b[1;34m(self, image, classifier_fn, labels, hide_color, top_labels, num_features, num_samples, batch_size, segmentation_fn, distance_metric, model_regressor, random_seed)\u001b[0m\n\u001b[0;32m    174\u001b[0m                                                     random_seed=random_seed)\n\u001b[0;32m    175\u001b[0m         \u001b[1;32mtry\u001b[0m\u001b[1;33m:\u001b[0m\u001b[1;33m\u001b[0m\u001b[0m\n\u001b[1;32m--> 176\u001b[1;33m             \u001b[0msegments\u001b[0m \u001b[1;33m=\u001b[0m \u001b[0msegmentation_fn\u001b[0m\u001b[1;33m(\u001b[0m\u001b[0mimage\u001b[0m\u001b[1;33m)\u001b[0m\u001b[1;33m\u001b[0m\u001b[0m\n\u001b[0m\u001b[0;32m    177\u001b[0m         \u001b[1;32mexcept\u001b[0m \u001b[0mValueError\u001b[0m \u001b[1;32mas\u001b[0m \u001b[0me\u001b[0m\u001b[1;33m:\u001b[0m\u001b[1;33m\u001b[0m\u001b[0m\n\u001b[0;32m    178\u001b[0m             \u001b[1;32mraise\u001b[0m \u001b[0me\u001b[0m\u001b[1;33m\u001b[0m\u001b[0m\n",
      "\u001b[1;32mc:\\users\\hp\\appdata\\local\\programs\\python\\python36\\lib\\site-packages\\lime\\wrappers\\scikit_image.py\u001b[0m in \u001b[0;36m__call__\u001b[1;34m(self, *args)\u001b[0m\n\u001b[0;32m    115\u001b[0m \u001b[1;33m\u001b[0m\u001b[0m\n\u001b[0;32m    116\u001b[0m     \u001b[1;32mdef\u001b[0m \u001b[0m__call__\u001b[0m\u001b[1;33m(\u001b[0m\u001b[0mself\u001b[0m\u001b[1;33m,\u001b[0m \u001b[1;33m*\u001b[0m\u001b[0margs\u001b[0m\u001b[1;33m)\u001b[0m\u001b[1;33m:\u001b[0m\u001b[1;33m\u001b[0m\u001b[0m\n\u001b[1;32m--> 117\u001b[1;33m         \u001b[1;32mreturn\u001b[0m \u001b[0mself\u001b[0m\u001b[1;33m.\u001b[0m\u001b[0mtarget_fn\u001b[0m\u001b[1;33m(\u001b[0m\u001b[0margs\u001b[0m\u001b[1;33m[\u001b[0m\u001b[1;36m0\u001b[0m\u001b[1;33m]\u001b[0m\u001b[1;33m,\u001b[0m \u001b[1;33m**\u001b[0m\u001b[0mself\u001b[0m\u001b[1;33m.\u001b[0m\u001b[0mtarget_params\u001b[0m\u001b[1;33m)\u001b[0m\u001b[1;33m\u001b[0m\u001b[0m\n\u001b[0m",
      "\u001b[1;32mc:\\users\\hp\\appdata\\local\\programs\\python\\python36\\lib\\site-packages\\skimage\\segmentation\\_quickshift.py\u001b[0m in \u001b[0;36mquickshift\u001b[1;34m(image, ratio, kernel_size, max_dist, return_tree, sigma, convert2lab, random_seed)\u001b[0m\n\u001b[0;32m     66\u001b[0m         \u001b[1;32mraise\u001b[0m \u001b[0mValueError\u001b[0m\u001b[1;33m(\u001b[0m\u001b[1;34m\"`kernel_size` should be >= 1.\"\u001b[0m\u001b[1;33m)\u001b[0m\u001b[1;33m\u001b[0m\u001b[0m\n\u001b[0;32m     67\u001b[0m \u001b[1;33m\u001b[0m\u001b[0m\n\u001b[1;32m---> 68\u001b[1;33m     \u001b[0mimage\u001b[0m \u001b[1;33m=\u001b[0m \u001b[0mndi\u001b[0m\u001b[1;33m.\u001b[0m\u001b[0mgaussian_filter\u001b[0m\u001b[1;33m(\u001b[0m\u001b[0mimage\u001b[0m\u001b[1;33m,\u001b[0m \u001b[1;33m[\u001b[0m\u001b[0msigma\u001b[0m\u001b[1;33m,\u001b[0m \u001b[0msigma\u001b[0m\u001b[1;33m,\u001b[0m \u001b[1;36m0\u001b[0m\u001b[1;33m]\u001b[0m\u001b[1;33m)\u001b[0m\u001b[1;33m\u001b[0m\u001b[0m\n\u001b[0m\u001b[0;32m     69\u001b[0m     \u001b[0mimage\u001b[0m \u001b[1;33m=\u001b[0m \u001b[0mnp\u001b[0m\u001b[1;33m.\u001b[0m\u001b[0mascontiguousarray\u001b[0m\u001b[1;33m(\u001b[0m\u001b[0mimage\u001b[0m \u001b[1;33m*\u001b[0m \u001b[0mratio\u001b[0m\u001b[1;33m)\u001b[0m\u001b[1;33m\u001b[0m\u001b[0m\n\u001b[0;32m     70\u001b[0m \u001b[1;33m\u001b[0m\u001b[0m\n",
      "\u001b[1;32mc:\\users\\hp\\appdata\\local\\programs\\python\\python36\\lib\\site-packages\\scipy\\ndimage\\filters.py\u001b[0m in \u001b[0;36mgaussian_filter\u001b[1;34m(input, sigma, order, output, mode, cval, truncate)\u001b[0m\n\u001b[0;32m    289\u001b[0m     \u001b[0moutput\u001b[0m \u001b[1;33m=\u001b[0m \u001b[0m_ni_support\u001b[0m\u001b[1;33m.\u001b[0m\u001b[0m_get_output\u001b[0m\u001b[1;33m(\u001b[0m\u001b[0moutput\u001b[0m\u001b[1;33m,\u001b[0m \u001b[0minput\u001b[0m\u001b[1;33m)\u001b[0m\u001b[1;33m\u001b[0m\u001b[0m\n\u001b[0;32m    290\u001b[0m     \u001b[0morders\u001b[0m \u001b[1;33m=\u001b[0m \u001b[0m_ni_support\u001b[0m\u001b[1;33m.\u001b[0m\u001b[0m_normalize_sequence\u001b[0m\u001b[1;33m(\u001b[0m\u001b[0morder\u001b[0m\u001b[1;33m,\u001b[0m \u001b[0minput\u001b[0m\u001b[1;33m.\u001b[0m\u001b[0mndim\u001b[0m\u001b[1;33m)\u001b[0m\u001b[1;33m\u001b[0m\u001b[0m\n\u001b[1;32m--> 291\u001b[1;33m     \u001b[0msigmas\u001b[0m \u001b[1;33m=\u001b[0m \u001b[0m_ni_support\u001b[0m\u001b[1;33m.\u001b[0m\u001b[0m_normalize_sequence\u001b[0m\u001b[1;33m(\u001b[0m\u001b[0msigma\u001b[0m\u001b[1;33m,\u001b[0m \u001b[0minput\u001b[0m\u001b[1;33m.\u001b[0m\u001b[0mndim\u001b[0m\u001b[1;33m)\u001b[0m\u001b[1;33m\u001b[0m\u001b[0m\n\u001b[0m\u001b[0;32m    292\u001b[0m     \u001b[0mmodes\u001b[0m \u001b[1;33m=\u001b[0m \u001b[0m_ni_support\u001b[0m\u001b[1;33m.\u001b[0m\u001b[0m_normalize_sequence\u001b[0m\u001b[1;33m(\u001b[0m\u001b[0mmode\u001b[0m\u001b[1;33m,\u001b[0m \u001b[0minput\u001b[0m\u001b[1;33m.\u001b[0m\u001b[0mndim\u001b[0m\u001b[1;33m)\u001b[0m\u001b[1;33m\u001b[0m\u001b[0m\n\u001b[0;32m    293\u001b[0m     \u001b[0maxes\u001b[0m \u001b[1;33m=\u001b[0m \u001b[0mlist\u001b[0m\u001b[1;33m(\u001b[0m\u001b[0mrange\u001b[0m\u001b[1;33m(\u001b[0m\u001b[0minput\u001b[0m\u001b[1;33m.\u001b[0m\u001b[0mndim\u001b[0m\u001b[1;33m)\u001b[0m\u001b[1;33m)\u001b[0m\u001b[1;33m\u001b[0m\u001b[0m\n",
      "\u001b[1;32mc:\\users\\hp\\appdata\\local\\programs\\python\\python36\\lib\\site-packages\\scipy\\ndimage\\_ni_support.py\u001b[0m in \u001b[0;36m_normalize_sequence\u001b[1;34m(input, rank)\u001b[0m\n\u001b[0;32m     63\u001b[0m         \u001b[1;32mif\u001b[0m \u001b[0mlen\u001b[0m\u001b[1;33m(\u001b[0m\u001b[0mnormalized\u001b[0m\u001b[1;33m)\u001b[0m \u001b[1;33m!=\u001b[0m \u001b[0mrank\u001b[0m\u001b[1;33m:\u001b[0m\u001b[1;33m\u001b[0m\u001b[0m\n\u001b[0;32m     64\u001b[0m             \u001b[0merr\u001b[0m \u001b[1;33m=\u001b[0m \u001b[1;34m\"sequence argument must have length equal to input rank\"\u001b[0m\u001b[1;33m\u001b[0m\u001b[0m\n\u001b[1;32m---> 65\u001b[1;33m             \u001b[1;32mraise\u001b[0m \u001b[0mRuntimeError\u001b[0m\u001b[1;33m(\u001b[0m\u001b[0merr\u001b[0m\u001b[1;33m)\u001b[0m\u001b[1;33m\u001b[0m\u001b[0m\n\u001b[0m\u001b[0;32m     66\u001b[0m     \u001b[1;32melse\u001b[0m\u001b[1;33m:\u001b[0m\u001b[1;33m\u001b[0m\u001b[0m\n\u001b[0;32m     67\u001b[0m         \u001b[0mnormalized\u001b[0m \u001b[1;33m=\u001b[0m \u001b[1;33m[\u001b[0m\u001b[0minput\u001b[0m\u001b[1;33m]\u001b[0m \u001b[1;33m*\u001b[0m \u001b[0mrank\u001b[0m\u001b[1;33m\u001b[0m\u001b[0m\n",
      "\u001b[1;31mRuntimeError\u001b[0m: sequence argument must have length equal to input rank"
     ]
    }
   ],
   "source": [
    "# print(len(t.shape))\n",
    "# print(data)\n",
    "explanation = explainer.explain_instance(t, results, top_labels=5, hide_color=0, num_samples=1000)"
   ]
  },
  {
   "cell_type": "code",
   "execution_count": null,
   "metadata": {},
   "outputs": [],
   "source": []
  }
 ],
 "metadata": {
  "kernelspec": {
   "display_name": "Python 3",
   "language": "python",
   "name": "python3"
  },
  "language_info": {
   "codemirror_mode": {
    "name": "ipython",
    "version": 3
   },
   "file_extension": ".py",
   "mimetype": "text/x-python",
   "name": "python",
   "nbconvert_exporter": "python",
   "pygments_lexer": "ipython3",
   "version": "3.6.5"
  }
 },
 "nbformat": 4,
 "nbformat_minor": 2
}
